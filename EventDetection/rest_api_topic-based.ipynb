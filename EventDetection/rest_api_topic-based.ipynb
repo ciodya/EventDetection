{
 "cells": [
  {
   "cell_type": "code",
   "execution_count": 1,
   "metadata": {},
   "outputs": [],
   "source": [
    "from tweepy.streaming import StreamListener\n",
    "\n",
    "from tweepy import OAuthHandler\n",
    "\n",
    "from tweepy import Stream\n",
    "\n",
    "import tweepy\n",
    "\n",
    "import twitter\n",
    "\n",
    "import pymongo\n",
    "\n",
    "from pymongo import MongoClient\n",
    "\n",
    "import json\n",
    "\n",
    "from pprint import pprint\n",
    "\n",
    "import sys\n",
    "\n",
    "import numpy as np\n",
    "\n",
    "\"\"\"twitter token\"\"\"\n",
    "\n",
    "ACCESS_TOKEN = \"1049731545030938624-x8KIVfylbssx4FkZ3Wj4W0BpefSxsn\"\n",
    "\n",
    "ACCESS_TOKEN_SECRET = \"omMBapycC6Kb9bOgKhJnwUioS088HFN66caoUGJNJhNUb\"\n",
    "\n",
    "CONSUMER_KEY = \"oPuItePyhMTjwZeoPmPoD5Jul\"\n",
    "\n",
    "CONSUMER_SECRET = \"KIqsgQkXErQtOsmJjtJgxfiqqLkk3XOnRJiv4SqKsahqwPYBT2\"\n",
    "\n",
    "auth = OAuthHandler(CONSUMER_KEY, CONSUMER_SECRET)\n",
    "auth.set_access_token(ACCESS_TOKEN, ACCESS_TOKEN_SECRET)\n",
    "auth2 = twitter.oauth.OAuth(ACCESS_TOKEN, ACCESS_TOKEN_SECRET,CONSUMER_KEY,CONSUMER_SECRET)\n",
    "twitter_api = tweepy.API(auth)\n",
    "\n",
    "\"\"\"connect to monoDB\"\"\"\n",
    "\n",
    "client = MongoClient()\n",
    "\n",
    "db = client.tweet_db\n",
    "\n",
    "tweet_collection8 = db.tweet_collection8\n",
    "\n",
    "tweet_collection8.create_index([(\"id\", pymongo.ASCENDING)],unique = True)\n",
    "\n",
    "keywords = np.array(['Brexit', 'Brexiter', 'EU UK talk'])\n",
    "\n",
    "for i in range (keywords.shape[0]):\n",
    "    for tweet in tweepy.Cursor(twitter_api.search, q = keywords[i], lang = 'en').items(3000):\n",
    "        try:\n",
    "            tweet_collection8.insert_one(tweet._json)\n",
    "        except:\n",
    "            pass"
   ]
  },
  {
   "cell_type": "code",
   "execution_count": null,
   "metadata": {},
   "outputs": [],
   "source": []
  }
 ],
 "metadata": {
  "kernelspec": {
   "display_name": "Python 3",
   "language": "python",
   "name": "python3"
  },
  "language_info": {
   "codemirror_mode": {
    "name": "ipython",
    "version": 3
   },
   "file_extension": ".py",
   "mimetype": "text/x-python",
   "name": "python",
   "nbconvert_exporter": "python",
   "pygments_lexer": "ipython3",
   "version": "3.6.5"
  }
 },
 "nbformat": 4,
 "nbformat_minor": 2
}
