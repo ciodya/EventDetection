{
 "cells": [
  {
   "cell_type": "markdown",
   "metadata": {},
   "source": [
    "# section4: Enhance geo-tagged data "
   ]
  },
  {
   "cell_type": "code",
   "execution_count": 1,
   "metadata": {},
   "outputs": [],
   "source": [
    "import numpy as np\n",
    "import matplotlib.pyplot as plt\n",
    "from matplotlib import mlab\n",
    "from matplotlib import rcParams\n",
    "import pymongo\n",
    "\n",
    "from pymongo import MongoClient\n",
    "\n",
    "import json\n",
    "\n",
    "from pprint import pprint\n",
    "\n",
    "import sys\n",
    "\n",
    "import numpy as np\n",
    "\n",
    "import matplotlib.pyplot as plt\n",
    "\n",
    "import operator\n",
    "\n",
    "\"\"\"connect to monoDB\"\"\"\n",
    "\n",
    "client = MongoClient()"
   ]
  },
  {
   "cell_type": "code",
   "execution_count": 13,
   "metadata": {},
   "outputs": [
    {
     "data": {
      "text/plain": [
       "([<matplotlib.axis.XTick at 0x26253f4a898>,\n",
       "  <matplotlib.axis.XTick at 0x26253f4e320>,\n",
       "  <matplotlib.axis.XTick at 0x26253f4e710>],\n",
       " <a list of 3 Text xticklabel objects>)"
      ]
     },
     "execution_count": 13,
     "metadata": {},
     "output_type": "execute_result"
    },
    {
     "data": {
      "image/png": "[encoded data removed]",
      "text/plain": [
       "<Figure size 432x288 with 1 Axes>"
      ]
     },
     "metadata": {},
     "output_type": "display_data"
    }
   ],
   "source": [
    "db = client.new2\n",
    "\n",
    "rect = np.zeros(3)\n",
    "\n",
    "total6 = db.addtag\n",
    "\n",
    "orgtagged = []\n",
    "persontagged = []\n",
    "loctagged = []\n",
    "\n",
    "DATASET= total6.aggregate([{\"$group\":{\"_id\":\"$PERSON\"}}])\n",
    "for data in DATASET:\n",
    "    if not operator.eq(data['_id'],\"\"):\n",
    "        persontagged.append(data['_id'])\n",
    "\n",
    "DATASET= total6.aggregate([{\"$group\":{\"_id\":\"$ORG\"}}])\n",
    "for data in DATASET:\n",
    "    if not operator.eq(data['_id'], \"\"):\n",
    "        orgtagged.append(data['_id'])\n",
    "\n",
    "DATASET= total6.aggregate([{\"$group\":{\"_id\":\"$LOC\"}}])\n",
    "for data in DATASET:\n",
    "    if not operator.eq(data['_id'], \"\"):\n",
    "        loctagged.append(data['_id'])\n",
    "\n",
    "rect[0] = len(persontagged)\n",
    "rect[1] = len(orgtagged)\n",
    "rect[2] = len(loctagged)\n",
    "\n",
    "fig=plt.figure()\n",
    "ax=fig.add_subplot(1,1,1)\n",
    "ax.bar(range(len(rect)),rect)\n",
    "ax.set_title(\"Grouping of tweets \")\n",
    "plt.xticks((0, 1, 2), ('PERSON', 'ORG', 'LOC'))"
   ]
  },
  {
   "cell_type": "code",
   "execution_count": 12,
   "metadata": {},
   "outputs": [
    {
     "name": "stderr",
     "output_type": "stream",
     "text": [
      "D:\\Anaconda3\\lib\\site-packages\\ipykernel_launcher.py:11: DeprecationWarning: count is deprecated. Use Collection.count_documents instead.\n",
      "  # This is added back by InteractiveShellApp.init_path()\n",
      "D:\\Anaconda3\\lib\\site-packages\\matplotlib\\cbook\\deprecation.py:107: MatplotlibDeprecationWarning: Adding an axes using the same arguments as a previous axes currently reuses the earlier instance.  In a future version, a new instance will always be created and returned.  Meanwhile, this warning can be suppressed, and the future behavior ensured, by passing a unique label to each axes instance.\n",
      "  warnings.warn(message, mplDeprecation, stacklevel=1)\n"
     ]
    },
    {
     "data": {
      "text/plain": [
       "Text(0.5,1,'Count the amount of data ')"
      ]
     },
     "execution_count": 12,
     "metadata": {},
     "output_type": "execute_result"
    },
    {
     "data": {
      "image/png": "[encoded data removed]",
      "text/plain": [
       "<Figure size 432x288 with 1 Axes>"
      ]
     },
     "metadata": {},
     "output_type": "display_data"
    }
   ],
   "source": [
    "db = client.new2\n",
    "\n",
    "gla = db.grouping\n",
    "rect = np.zeros(564)\n",
    "\n",
    "tweets = gla.aggregate([{\"$group\":{\"_id\":\"$NG\"}}])\n",
    "i = 0\n",
    "\n",
    "for tweet in tweets:\n",
    "    id = tweet['_id']\n",
    "    rect[i] = gla.find({\"NG\":id}).count()\n",
    "    i += 1\n",
    "\n",
    "fig=plt.figure()\n",
    "plt.ylim(0,110)\n",
    "ax=fig.add_subplot(1,1,1)\n",
    "ax.bar(range(len(rect)),rect)\n",
    "ax.set_title(\"Count the amount of data \")"
   ]
  },
  {
   "cell_type": "code",
   "execution_count": null,
   "metadata": {},
   "outputs": [],
   "source": []
  }
 ],
 "metadata": {
  "kernelspec": {
   "display_name": "Python 3",
   "language": "python",
   "name": "python3"
  },
  "language_info": {
   "codemirror_mode": {
    "name": "ipython",
    "version": 3
   },
   "file_extension": ".py",
   "mimetype": "text/x-python",
   "name": "python",
   "nbconvert_exporter": "python",
   "pygments_lexer": "ipython3",
   "version": "3.6.5"
  }
 },
 "nbformat": 4,
 "nbformat_minor": 2
}
