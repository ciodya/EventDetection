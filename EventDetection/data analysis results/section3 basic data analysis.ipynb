{
 "cells": [
  {
   "cell_type": "markdown",
   "metadata": {},
   "source": [
    "# section 3: basic data analysis"
   ]
  },
  {
   "cell_type": "code",
   "execution_count": 9,
   "metadata": {},
   "outputs": [],
   "source": [
    "import pymongo\n",
    "\n",
    "from pymongo import MongoClient\n",
    "\n",
    "import json\n",
    "\n",
    "from pprint import pprint\n",
    "\n",
    "import sys\n",
    "\n",
    "import numpy as np\n",
    "\n",
    "import matplotlib.pyplot as plt\n",
    "\n",
    "\n",
    "\"\"\"connect to monoDB\"\"\"\n",
    "\n",
    "client = MongoClient()"
   ]
  },
  {
   "cell_type": "markdown",
   "metadata": {},
   "source": [
    "## count the amount of data "
   ]
  },
  {
   "cell_type": "code",
   "execution_count": 27,
   "metadata": {},
   "outputs": [
    {
     "name": "stderr",
     "output_type": "stream",
     "text": [
      "D:\\Anaconda3\\lib\\site-packages\\ipykernel_launcher.py:6: DeprecationWarning: count is deprecated. Use Collection.count_documents instead.\n",
      "  \n",
      "D:\\Anaconda3\\lib\\site-packages\\ipykernel_launcher.py:7: DeprecationWarning: count is deprecated. Use Collection.count_documents instead.\n",
      "  import sys\n",
      "D:\\Anaconda3\\lib\\site-packages\\ipykernel_launcher.py:8: DeprecationWarning: count is deprecated. Use Collection.count_documents instead.\n",
      "  \n",
      "D:\\Anaconda3\\lib\\site-packages\\ipykernel_launcher.py:9: DeprecationWarning: count is deprecated. Use Collection.count_documents instead.\n",
      "  if __name__ == '__main__':\n",
      "D:\\Anaconda3\\lib\\site-packages\\ipykernel_launcher.py:10: DeprecationWarning: count is deprecated. Use Collection.count_documents instead.\n",
      "  # Remove the CWD from sys.path while we load stuff.\n",
      "D:\\Anaconda3\\lib\\site-packages\\ipykernel_launcher.py:11: DeprecationWarning: count is deprecated. Use Collection.count_documents instead.\n",
      "  # This is added back by InteractiveShellApp.init_path()\n",
      "D:\\Anaconda3\\lib\\site-packages\\ipykernel_launcher.py:14: DeprecationWarning: count is deprecated. Use Collection.count_documents instead.\n",
      "  \n",
      "D:\\Anaconda3\\lib\\site-packages\\ipykernel_launcher.py:15: DeprecationWarning: count is deprecated. Use Collection.count_documents instead.\n",
      "  from ipykernel import kernelapp as app\n",
      "D:\\Anaconda3\\lib\\site-packages\\ipykernel_launcher.py:16: DeprecationWarning: count is deprecated. Use Collection.count_documents instead.\n",
      "  app.launch_new_instance()\n",
      "D:\\Anaconda3\\lib\\site-packages\\ipykernel_launcher.py:17: DeprecationWarning: count is deprecated. Use Collection.count_documents instead.\n",
      "D:\\Anaconda3\\lib\\site-packages\\ipykernel_launcher.py:18: DeprecationWarning: count is deprecated. Use Collection.count_documents instead.\n",
      "D:\\Anaconda3\\lib\\site-packages\\ipykernel_launcher.py:19: DeprecationWarning: count is deprecated. Use Collection.count_documents instead.\n",
      "D:\\Anaconda3\\lib\\site-packages\\ipykernel_launcher.py:22: DeprecationWarning: count is deprecated. Use Collection.count_documents instead.\n",
      "D:\\Anaconda3\\lib\\site-packages\\ipykernel_launcher.py:23: DeprecationWarning: count is deprecated. Use Collection.count_documents instead.\n",
      "D:\\Anaconda3\\lib\\site-packages\\ipykernel_launcher.py:24: DeprecationWarning: count is deprecated. Use Collection.count_documents instead.\n",
      "D:\\Anaconda3\\lib\\site-packages\\ipykernel_launcher.py:25: DeprecationWarning: count is deprecated. Use Collection.count_documents instead.\n",
      "D:\\Anaconda3\\lib\\site-packages\\ipykernel_launcher.py:26: DeprecationWarning: count is deprecated. Use Collection.count_documents instead.\n",
      "D:\\Anaconda3\\lib\\site-packages\\ipykernel_launcher.py:27: DeprecationWarning: count is deprecated. Use Collection.count_documents instead.\n",
      "D:\\Anaconda3\\lib\\site-packages\\ipykernel_launcher.py:30: DeprecationWarning: count is deprecated. Use Collection.count_documents instead.\n",
      "D:\\Anaconda3\\lib\\site-packages\\ipykernel_launcher.py:31: DeprecationWarning: count is deprecated. Use Collection.count_documents instead.\n",
      "D:\\Anaconda3\\lib\\site-packages\\ipykernel_launcher.py:32: DeprecationWarning: count is deprecated. Use Collection.count_documents instead.\n",
      "D:\\Anaconda3\\lib\\site-packages\\ipykernel_launcher.py:33: DeprecationWarning: count is deprecated. Use Collection.count_documents instead.\n",
      "D:\\Anaconda3\\lib\\site-packages\\ipykernel_launcher.py:34: DeprecationWarning: count is deprecated. Use Collection.count_documents instead.\n",
      "D:\\Anaconda3\\lib\\site-packages\\ipykernel_launcher.py:35: DeprecationWarning: count is deprecated. Use Collection.count_documents instead.\n"
     ]
    },
    {
     "data": {
      "text/plain": [
       "Text(0.5,1,'Count the amount of data ')"
      ]
     },
     "execution_count": 27,
     "metadata": {},
     "output_type": "execute_result"
    },
    {
     "data": {
      "image/png": "[encoded data removed]",
      "text/plain": [
       "<Figure size 432x288 with 1 Axes>"
      ]
     },
     "metadata": {},
     "output_type": "display_data"
    }
   ],
   "source": [
    "db = client.tweet_db\n",
    "gla = db.tweet_collection7\n",
    "sample_count = np.zeros(6)\n",
    "total_data = np.zeros(6)\n",
    "\n",
    "sample_count[0]=gla.find({'created_at': {\"$gte\":\"Thu Nov 15 23:02:26 +0000 2018\",\"$lte\":\"Thu Nov 15 23:12:26 +0000 2018\"}}).count()\n",
    "sample_count[1]=gla.find({'created_at': {\"$gte\":\"Thu Nov 15 23:12:26 +0000 2018\",\"$lte\":\"Thu Nov 15 23:22:26 +0000 2018\"}}).count()\n",
    "sample_count[2]=gla.find({'created_at': {\"$gte\":\"Thu Nov 15 23:22:26 +0000 2018\",\"$lte\":\"Thu Nov 15 23:32:26 +0000 2018\"}}).count()\n",
    "sample_count[3]=gla.find({'created_at': {\"$gte\":\"Thu Nov 15 23:32:26 +0000 2018\",\"$lte\":\"Thu Nov 15 23:42:26 +0000 2018\"}}).count()\n",
    "sample_count[4]=gla.find({'created_at': {\"$gte\":\"Thu Nov 15 23:42:26 +0000 2018\",\"$lte\":\"Thu Nov 15 23:52:26 +0000 2018\"}}).count()\n",
    "sample_count[5]=gla.find({'created_at': {\"$gte\":\"Thu Nov 15 23:52:26 +0000 2018\",\"$lte\":\"Thu Nov 16 00:02:26 +0000 2018\"}}).count()\n",
    "\n",
    "gla = db.tweet_collection5\n",
    "sample_count[0]+=gla.find({'created_at': {\"$gte\":\"Thu Nov 15 14:50:21 +0000 2018\",\"$lte\":\"Thu Nov 15 15:00:21 +0000 2018\"}}).count()\n",
    "sample_count[1]+=gla.find({'created_at': {\"$gte\":\"Thu Nov 15 15:00:21 +0000 2018\",\"$lte\":\"Thu Nov 15 15:10:21 +0000 2018\"}}).count()\n",
    "sample_count[2]+=gla.find({'created_at': {\"$gte\":\"Thu Nov 15 15:10:21 +0000 2018\",\"$lte\":\"Thu Nov 15 15:20:21 +0000 2018\"}}).count()\n",
    "sample_count[3]+=gla.find({'created_at': {\"$gte\":\"Thu Nov 15 15:20:21 +0000 2018\",\"$lte\":\"Thu Nov 15 15:30:21 +0000 2018\"}}).count()\n",
    "sample_count[4]+=gla.find({'created_at': {\"$gte\":\"Thu Nov 15 15:30:21 +0000 2018\",\"$lte\":\"Thu Nov 15 15:40:21 +0000 2018\"}}).count()\n",
    "sample_count[5]+=gla.find({'created_at': {\"$gte\":\"Thu Nov 15 15:40:21 +0000 2018\",\"$lte\":\"Thu Nov 15 15:50:21 +0000 2018\"}}).count()\n",
    "\n",
    "gla = db.tweet_collection8\n",
    "sample_count[0]+=gla.find({'created_at': {\"$gte\":\"Thu Nov 15 23:18:02 +0000 2018\",\"$lte\":\"Thu Nov 15 23:28:02 +0000 2018\"}}).count()\n",
    "sample_count[1]+=gla.find({'created_at': {\"$gte\":\"Thu Nov 15 23:28:02 +0000 2018\",\"$lte\":\"Thu Nov 15 23:38:02 +0000 2018\"}}).count()\n",
    "sample_count[2]+=gla.find({'created_at': {\"$gte\":\"Thu Nov 15 23:38:02 +0000 2018\",\"$lte\":\"Thu Nov 15 23:48:02 +0000 2018\"}}).count()\n",
    "sample_count[3]+=gla.find({'created_at': {\"$gte\":\"Thu Nov 15 23:48:02 +0000 2018\",\"$lte\":\"Thu Nov 15 23:58:02 +0000 2018\"}}).count()\n",
    "sample_count[4]+=gla.find({'created_at': {\"$gte\":\"Thu Nov 15 23:58:02 +0000 2018\",\"$lte\":\"Thu Nov 16 00:08:02 +0000 2018\"}}).count()\n",
    "sample_count[5]+=gla.find({'created_at': {\"$gte\":\"Thu Nov 16 00:08:02 +0000 2018\",\"$lte\":\"Thu Nov 16 00:18:02 +0000 2018\"}}).count()\n",
    "\n",
    "gla = db.tweet_collection6\n",
    "sample_count[0]+=gla.find({'created_at': {\"$gte\":\"Thu Nov 15 14:50:24 +0000 2018\",\"$lte\":\"Thu Nov 15 15:00:24 +0000 2018\"}}).count()\n",
    "sample_count[1]+=gla.find({'created_at': {\"$gte\":\"Thu Nov 15 15:00:24 +0000 2018\",\"$lte\":\"Thu Nov 15 15:10:24 +0000 2018\"}}).count()\n",
    "sample_count[2]+=gla.find({'created_at': {\"$gte\":\"Thu Nov 15 15:10:24 +0000 2018\",\"$lte\":\"Thu Nov 15 15:20:24 +0000 2018\"}}).count()\n",
    "sample_count[3]+=gla.find({'created_at': {\"$gte\":\"Thu Nov 15 15:20:24 +0000 2018\",\"$lte\":\"Thu Nov 15 15:30:24 +0000 2018\"}}).count()\n",
    "sample_count[4]+=gla.find({'created_at': {\"$gte\":\"Thu Nov 15 15:30:24 +0000 2018\",\"$lte\":\"Thu Nov 15 15:40:24 +0000 2018\"}}).count()\n",
    "sample_count[5]+=gla.find({'created_at': {\"$gte\":\"Thu Nov 15 15:40:24 +0000 2018\",\"$lte\":\"Thu Nov 15 15:50:24 +0000 2018\"}}).count()\n",
    "\n",
    "\n",
    "total_data[0] = sample_count[0]\n",
    "total_data[1] = sample_count[1]\n",
    "total_data[2] = sample_count[2]\n",
    "total_data[3] = sample_count[3]\n",
    "total_data[4] = sample_count[4]\n",
    "total_data[5] = sample_count[5]\n",
    "fig=plt.figure()\n",
    "ax=fig.add_subplot(1,1,1)\n",
    "ax.bar(range(len(sample_count)),sample_count)\n",
    "ax.set_title(\"Count the amount of data \")"
   ]
  },
  {
   "cell_type": "markdown",
   "metadata": {},
   "source": [
    "## counte the amount of geo-tagged data "
   ]
  },
  {
   "cell_type": "code",
   "execution_count": 19,
   "metadata": {},
   "outputs": [
    {
     "name": "stderr",
     "output_type": "stream",
     "text": [
      "D:\\Anaconda3\\lib\\site-packages\\ipykernel_launcher.py:5: DeprecationWarning: count is deprecated. Use Collection.count_documents instead.\n",
      "  \"\"\"\n",
      "D:\\Anaconda3\\lib\\site-packages\\ipykernel_launcher.py:6: DeprecationWarning: count is deprecated. Use Collection.count_documents instead.\n",
      "  \n",
      "D:\\Anaconda3\\lib\\site-packages\\ipykernel_launcher.py:7: DeprecationWarning: count is deprecated. Use Collection.count_documents instead.\n",
      "  import sys\n",
      "D:\\Anaconda3\\lib\\site-packages\\ipykernel_launcher.py:8: DeprecationWarning: count is deprecated. Use Collection.count_documents instead.\n",
      "  \n",
      "D:\\Anaconda3\\lib\\site-packages\\ipykernel_launcher.py:9: DeprecationWarning: count is deprecated. Use Collection.count_documents instead.\n",
      "  if __name__ == '__main__':\n",
      "D:\\Anaconda3\\lib\\site-packages\\ipykernel_launcher.py:10: DeprecationWarning: count is deprecated. Use Collection.count_documents instead.\n",
      "  # Remove the CWD from sys.path while we load stuff.\n"
     ]
    },
    {
     "data": {
      "text/plain": [
       "Text(0.5,1,'Count the amount of geo-tagged data from Glasgow')"
      ]
     },
     "execution_count": 19,
     "metadata": {},
     "output_type": "execute_result"
    },
    {
     "data": {
      "image/png": "[encoded data removed]",
      "text/plain": [
       "<Figure size 432x288 with 1 Axes>"
      ]
     },
     "metadata": {},
     "output_type": "display_data"
    }
   ],
   "source": [
    "db = client.tweet_db\n",
    "gla = db.tweet_collection7\n",
    "sample_count = np.zeros(6)\n",
    "\n",
    "sample_count[0]=gla.find({'created_at': {\"$gte\":\"Thu Nov 15 23:02:26 +0000 2018\",\"$lte\":\"Thu Nov 15 23:12:26 +0000 2018\"}}).count()\n",
    "sample_count[1]=gla.find({'created_at': {\"$gte\":\"Thu Nov 15 23:12:26 +0000 2018\",\"$lte\":\"Thu Nov 15 23:22:26 +0000 2018\"}}).count()\n",
    "sample_count[2]=gla.find({'created_at': {\"$gte\":\"Thu Nov 15 23:22:26 +0000 2018\",\"$lte\":\"Thu Nov 15 23:32:26 +0000 2018\"}}).count()\n",
    "sample_count[3]=gla.find({'created_at': {\"$gte\":\"Thu Nov 15 23:32:26 +0000 2018\",\"$lte\":\"Thu Nov 15 23:42:26 +0000 2018\"}}).count()\n",
    "sample_count[4]=gla.find({'created_at': {\"$gte\":\"Thu Nov 15 23:42:26 +0000 2018\",\"$lte\":\"Thu Nov 15 23:52:26 +0000 2018\"}}).count()\n",
    "sample_count[5]=gla.find({'created_at': {\"$gte\":\"Thu Nov 15 23:52:26 +0000 2018\",\"$lte\":\"Thu Nov 16 00:02:26 +0000 2018\"}}).count()\n",
    "\n",
    "fig=plt.figure()\n",
    "ax=fig.add_subplot(1,1,1)\n",
    "ax.bar(range(len(sample_count)),sample_count)\n",
    "ax.set_title(\"Count the amount of geo-tagged data from Glasgow\")"
   ]
  },
  {
   "cell_type": "markdown",
   "metadata": {},
   "source": [
    "## count the amount of redundant data "
   ]
  },
  {
   "cell_type": "code",
   "execution_count": 24,
   "metadata": {},
   "outputs": [],
   "source": [
    "db = client.new3\n",
    "gla = db.original_geo\n",
    "tweets = client.tweet_db.tweet_collection7.aggregate([{\"$group\":{\"_id\":\"$id_str\"}}])\n",
    "for tweet in tweets:\n",
    "    id = tweet['_id']\n",
    "    clean_data = client.tweet_db.tweet_collection7.find({\"id_str\":id, \"retweeted_status\":None, \"is_quote_status\":False})\n",
    "    \n",
    "    num = 0\n",
    "    for insertTweet in clean_data:\n",
    "        if num > 0:\n",
    "            break;\n",
    "        else:\n",
    "            gla.insert_one(insertTweet)\n",
    "        num += 1\n",
    "\n",
    "gla = db.original_rest\n",
    "tweets = client.tweet_db.tweet_collection8.aggregate([{\"$group\":{\"_id\":\"$id_str\"}}])\n",
    "for tweet in tweets:\n",
    "    id = tweet['_id']\n",
    "    clean_data = client.tweet_db.tweet_collection8.find({\"id_str\":id, \"retweeted_status\":None, \"is_quote_status\":False})\n",
    "    \n",
    "    num = 0\n",
    "    for insertTweet in clean_data:\n",
    "        if num > 0:\n",
    "            break;\n",
    "        else:\n",
    "            gla.insert_one(insertTweet)\n",
    "        num += 1\n",
    "        \n",
    "gla = db.original_topic\n",
    "tweets = client.new.tweet_collection6.aggregate([{\"$group\":{\"_id\":\"$id_str\"}}])\n",
    "for tweet in tweets:\n",
    "    id = tweet['_id']\n",
    "    clean_data = client.new.tweet_collection6.find({\"id_str\":id, \"retweeted_status\":None, \"is_quote_status\":False})\n",
    "    \n",
    "    num = 0\n",
    "    for insertTweet in clean_data:\n",
    "        if num > 0:\n",
    "            break;\n",
    "        else:\n",
    "            gla.insert_one(insertTweet)\n",
    "        num += 1\n",
    "        \n",
    "gla = db.original_random\n",
    "tweets = client.tweet_db.tweet_collection5.aggregate([{\"$group\":{\"_id\":\"$id_str\"}}])\n",
    "for tweet in tweets:\n",
    "    id = tweet['_id']\n",
    "    clean_data = client.tweet_db.tweet_collection5.find({\"id_str\":id, \"retweeted_status\":None, \"is_quote_status\":False})\n",
    "    \n",
    "    num = 0\n",
    "    for insertTweet in clean_data:\n",
    "        if num > 0:\n",
    "            break;\n",
    "        else:\n",
    "            gla.insert_one(insertTweet)\n",
    "        num += 1"
   ]
  },
  {
   "cell_type": "code",
   "execution_count": 28,
   "metadata": {},
   "outputs": [
    {
     "name": "stderr",
     "output_type": "stream",
     "text": [
      "D:\\Anaconda3\\lib\\site-packages\\ipykernel_launcher.py:5: DeprecationWarning: count is deprecated. Use Collection.count_documents instead.\n",
      "  \"\"\"\n",
      "D:\\Anaconda3\\lib\\site-packages\\ipykernel_launcher.py:6: DeprecationWarning: count is deprecated. Use Collection.count_documents instead.\n",
      "  \n",
      "D:\\Anaconda3\\lib\\site-packages\\ipykernel_launcher.py:7: DeprecationWarning: count is deprecated. Use Collection.count_documents instead.\n",
      "  import sys\n",
      "D:\\Anaconda3\\lib\\site-packages\\ipykernel_launcher.py:8: DeprecationWarning: count is deprecated. Use Collection.count_documents instead.\n",
      "  \n",
      "D:\\Anaconda3\\lib\\site-packages\\ipykernel_launcher.py:9: DeprecationWarning: count is deprecated. Use Collection.count_documents instead.\n",
      "  if __name__ == '__main__':\n",
      "D:\\Anaconda3\\lib\\site-packages\\ipykernel_launcher.py:10: DeprecationWarning: count is deprecated. Use Collection.count_documents instead.\n",
      "  # Remove the CWD from sys.path while we load stuff.\n",
      "D:\\Anaconda3\\lib\\site-packages\\ipykernel_launcher.py:13: DeprecationWarning: count is deprecated. Use Collection.count_documents instead.\n",
      "  del sys.path[0]\n",
      "D:\\Anaconda3\\lib\\site-packages\\ipykernel_launcher.py:14: DeprecationWarning: count is deprecated. Use Collection.count_documents instead.\n",
      "  \n",
      "D:\\Anaconda3\\lib\\site-packages\\ipykernel_launcher.py:15: DeprecationWarning: count is deprecated. Use Collection.count_documents instead.\n",
      "  from ipykernel import kernelapp as app\n",
      "D:\\Anaconda3\\lib\\site-packages\\ipykernel_launcher.py:16: DeprecationWarning: count is deprecated. Use Collection.count_documents instead.\n",
      "  app.launch_new_instance()\n",
      "D:\\Anaconda3\\lib\\site-packages\\ipykernel_launcher.py:17: DeprecationWarning: count is deprecated. Use Collection.count_documents instead.\n",
      "D:\\Anaconda3\\lib\\site-packages\\ipykernel_launcher.py:18: DeprecationWarning: count is deprecated. Use Collection.count_documents instead.\n",
      "D:\\Anaconda3\\lib\\site-packages\\ipykernel_launcher.py:21: DeprecationWarning: count is deprecated. Use Collection.count_documents instead.\n",
      "D:\\Anaconda3\\lib\\site-packages\\ipykernel_launcher.py:22: DeprecationWarning: count is deprecated. Use Collection.count_documents instead.\n",
      "D:\\Anaconda3\\lib\\site-packages\\ipykernel_launcher.py:23: DeprecationWarning: count is deprecated. Use Collection.count_documents instead.\n",
      "D:\\Anaconda3\\lib\\site-packages\\ipykernel_launcher.py:24: DeprecationWarning: count is deprecated. Use Collection.count_documents instead.\n",
      "D:\\Anaconda3\\lib\\site-packages\\ipykernel_launcher.py:25: DeprecationWarning: count is deprecated. Use Collection.count_documents instead.\n",
      "D:\\Anaconda3\\lib\\site-packages\\ipykernel_launcher.py:26: DeprecationWarning: count is deprecated. Use Collection.count_documents instead.\n",
      "D:\\Anaconda3\\lib\\site-packages\\ipykernel_launcher.py:29: DeprecationWarning: count is deprecated. Use Collection.count_documents instead.\n",
      "D:\\Anaconda3\\lib\\site-packages\\ipykernel_launcher.py:30: DeprecationWarning: count is deprecated. Use Collection.count_documents instead.\n",
      "D:\\Anaconda3\\lib\\site-packages\\ipykernel_launcher.py:31: DeprecationWarning: count is deprecated. Use Collection.count_documents instead.\n",
      "D:\\Anaconda3\\lib\\site-packages\\ipykernel_launcher.py:32: DeprecationWarning: count is deprecated. Use Collection.count_documents instead.\n",
      "D:\\Anaconda3\\lib\\site-packages\\ipykernel_launcher.py:33: DeprecationWarning: count is deprecated. Use Collection.count_documents instead.\n",
      "D:\\Anaconda3\\lib\\site-packages\\ipykernel_launcher.py:34: DeprecationWarning: count is deprecated. Use Collection.count_documents instead.\n"
     ]
    },
    {
     "data": {
      "text/plain": [
       "Text(0.5,1,'Count the amount of redundant data')"
      ]
     },
     "execution_count": 28,
     "metadata": {},
     "output_type": "execute_result"
    },
    {
     "data": {
      "image/png": "[encoded data removed]",
      "text/plain": [
       "<Figure size 432x288 with 1 Axes>"
      ]
     },
     "metadata": {},
     "output_type": "display_data"
    }
   ],
   "source": [
    "db = client.new3\n",
    "gla = db.original_geo\n",
    "sample_count = np.zeros(6)\n",
    "\n",
    "sample_count[0]=gla.find({'created_at': {\"$gte\":\"Thu Nov 15 23:02:26 +0000 2018\",\"$lte\":\"Thu Nov 15 23:12:26 +0000 2018\"}}).count()\n",
    "sample_count[1]=gla.find({'created_at': {\"$gte\":\"Thu Nov 15 23:12:26 +0000 2018\",\"$lte\":\"Thu Nov 15 23:22:26 +0000 2018\"}}).count()\n",
    "sample_count[2]=gla.find({'created_at': {\"$gte\":\"Thu Nov 15 23:22:26 +0000 2018\",\"$lte\":\"Thu Nov 15 23:32:26 +0000 2018\"}}).count()\n",
    "sample_count[3]=gla.find({'created_at': {\"$gte\":\"Thu Nov 15 23:32:26 +0000 2018\",\"$lte\":\"Thu Nov 15 23:42:26 +0000 2018\"}}).count()\n",
    "sample_count[4]=gla.find({'created_at': {\"$gte\":\"Thu Nov 15 23:42:26 +0000 2018\",\"$lte\":\"Thu Nov 15 23:52:26 +0000 2018\"}}).count()\n",
    "sample_count[5]=gla.find({'created_at': {\"$gte\":\"Thu Nov 15 23:52:26 +0000 2018\",\"$lte\":\"Thu Nov 16 00:02:26 +0000 2018\"}}).count()\n",
    "\n",
    "gla = gla = db.original_random\n",
    "sample_count[0]+=gla.find({'created_at': {\"$gte\":\"Thu Nov 15 14:50:21 +0000 2018\",\"$lte\":\"Thu Nov 15 15:00:21 +0000 2018\"}}).count()\n",
    "sample_count[1]+=gla.find({'created_at': {\"$gte\":\"Thu Nov 15 15:00:21 +0000 2018\",\"$lte\":\"Thu Nov 15 15:10:21 +0000 2018\"}}).count()\n",
    "sample_count[2]+=gla.find({'created_at': {\"$gte\":\"Thu Nov 15 15:10:21 +0000 2018\",\"$lte\":\"Thu Nov 15 15:20:21 +0000 2018\"}}).count()\n",
    "sample_count[3]+=gla.find({'created_at': {\"$gte\":\"Thu Nov 15 15:20:21 +0000 2018\",\"$lte\":\"Thu Nov 15 15:30:21 +0000 2018\"}}).count()\n",
    "sample_count[4]+=gla.find({'created_at': {\"$gte\":\"Thu Nov 15 15:30:21 +0000 2018\",\"$lte\":\"Thu Nov 15 15:40:21 +0000 2018\"}}).count()\n",
    "sample_count[5]+=gla.find({'created_at': {\"$gte\":\"Thu Nov 15 15:40:21 +0000 2018\",\"$lte\":\"Thu Nov 15 15:50:21 +0000 2018\"}}).count()\n",
    "\n",
    "gla = db.original_rest\n",
    "sample_count[0]+=gla.find({'created_at': {\"$gte\":\"Thu Nov 15 23:18:02 +0000 2018\",\"$lte\":\"Thu Nov 15 23:28:02 +0000 2018\"}}).count()\n",
    "sample_count[1]+=gla.find({'created_at': {\"$gte\":\"Thu Nov 15 23:28:02 +0000 2018\",\"$lte\":\"Thu Nov 15 23:38:02 +0000 2018\"}}).count()\n",
    "sample_count[2]+=gla.find({'created_at': {\"$gte\":\"Thu Nov 15 23:38:02 +0000 2018\",\"$lte\":\"Thu Nov 15 23:48:02 +0000 2018\"}}).count()\n",
    "sample_count[3]+=gla.find({'created_at': {\"$gte\":\"Thu Nov 15 23:48:02 +0000 2018\",\"$lte\":\"Thu Nov 15 23:58:02 +0000 2018\"}}).count()\n",
    "sample_count[4]+=gla.find({'created_at': {\"$gte\":\"Thu Nov 15 23:58:02 +0000 2018\",\"$lte\":\"Thu Nov 16 00:08:02 +0000 2018\"}}).count()\n",
    "sample_count[5]+=gla.find({'created_at': {\"$gte\":\"Thu Nov 16 00:08:02 +0000 2018\",\"$lte\":\"Thu Nov 16 00:18:02 +0000 2018\"}}).count()\n",
    "\n",
    "gla = db.original_topic\n",
    "sample_count[0]+=gla.find({'created_at': {\"$gte\":\"Thu Nov 15 14:50:24 +0000 2018\",\"$lte\":\"Thu Nov 15 15:00:24 +0000 2018\"}}).count()\n",
    "sample_count[1]+=gla.find({'created_at': {\"$gte\":\"Thu Nov 15 15:00:24 +0000 2018\",\"$lte\":\"Thu Nov 15 15:10:24 +0000 2018\"}}).count()\n",
    "sample_count[2]+=gla.find({'created_at': {\"$gte\":\"Thu Nov 15 15:10:24 +0000 2018\",\"$lte\":\"Thu Nov 15 15:20:24 +0000 2018\"}}).count()\n",
    "sample_count[3]+=gla.find({'created_at': {\"$gte\":\"Thu Nov 15 15:20:24 +0000 2018\",\"$lte\":\"Thu Nov 15 15:30:24 +0000 2018\"}}).count()\n",
    "sample_count[4]+=gla.find({'created_at': {\"$gte\":\"Thu Nov 15 15:30:24 +0000 2018\",\"$lte\":\"Thu Nov 15 15:40:24 +0000 2018\"}}).count()\n",
    "sample_count[5]+=gla.find({'created_at': {\"$gte\":\"Thu Nov 15 15:40:24 +0000 2018\",\"$lte\":\"Thu Nov 15 15:50:24 +0000 2018\"}}).count()\n",
    "\n",
    "redundant = np.zeros(6)\n",
    "redundant[0] = total_data[0] - sample_count[0]\n",
    "redundant[1] = total_data[1] - sample_count[1]\n",
    "redundant[2] = total_data[2] - sample_count[2]\n",
    "redundant[3] = total_data[3] - sample_count[3]\n",
    "redundant[4] = total_data[4] - sample_count[4]\n",
    "redundant[5] = total_data[5] - sample_count[5]\n",
    "\n",
    "fig=plt.figure()\n",
    "ax=fig.add_subplot(1,1,1)\n",
    "ax.bar(range(len(redundant)),redundant)\n",
    "ax.set_title(\"Count the amount of redundant data\")"
   ]
  },
  {
   "cell_type": "markdown",
   "metadata": {},
   "source": [
    "## count the amount of retweets "
   ]
  },
  {
   "cell_type": "code",
   "execution_count": 30,
   "metadata": {},
   "outputs": [
    {
     "name": "stderr",
     "output_type": "stream",
     "text": [
      "D:\\Anaconda3\\lib\\site-packages\\ipykernel_launcher.py:5: DeprecationWarning: count is deprecated. Use Collection.count_documents instead.\n",
      "  \"\"\"\n",
      "D:\\Anaconda3\\lib\\site-packages\\ipykernel_launcher.py:6: DeprecationWarning: count is deprecated. Use Collection.count_documents instead.\n",
      "  \n",
      "D:\\Anaconda3\\lib\\site-packages\\ipykernel_launcher.py:7: DeprecationWarning: count is deprecated. Use Collection.count_documents instead.\n",
      "  import sys\n",
      "D:\\Anaconda3\\lib\\site-packages\\ipykernel_launcher.py:8: DeprecationWarning: count is deprecated. Use Collection.count_documents instead.\n",
      "  \n",
      "D:\\Anaconda3\\lib\\site-packages\\ipykernel_launcher.py:9: DeprecationWarning: count is deprecated. Use Collection.count_documents instead.\n",
      "  if __name__ == '__main__':\n",
      "D:\\Anaconda3\\lib\\site-packages\\ipykernel_launcher.py:10: DeprecationWarning: count is deprecated. Use Collection.count_documents instead.\n",
      "  # Remove the CWD from sys.path while we load stuff.\n",
      "D:\\Anaconda3\\lib\\site-packages\\ipykernel_launcher.py:13: DeprecationWarning: count is deprecated. Use Collection.count_documents instead.\n",
      "  del sys.path[0]\n",
      "D:\\Anaconda3\\lib\\site-packages\\ipykernel_launcher.py:14: DeprecationWarning: count is deprecated. Use Collection.count_documents instead.\n",
      "  \n",
      "D:\\Anaconda3\\lib\\site-packages\\ipykernel_launcher.py:15: DeprecationWarning: count is deprecated. Use Collection.count_documents instead.\n",
      "  from ipykernel import kernelapp as app\n",
      "D:\\Anaconda3\\lib\\site-packages\\ipykernel_launcher.py:16: DeprecationWarning: count is deprecated. Use Collection.count_documents instead.\n",
      "  app.launch_new_instance()\n",
      "D:\\Anaconda3\\lib\\site-packages\\ipykernel_launcher.py:17: DeprecationWarning: count is deprecated. Use Collection.count_documents instead.\n",
      "D:\\Anaconda3\\lib\\site-packages\\ipykernel_launcher.py:18: DeprecationWarning: count is deprecated. Use Collection.count_documents instead.\n",
      "D:\\Anaconda3\\lib\\site-packages\\ipykernel_launcher.py:21: DeprecationWarning: count is deprecated. Use Collection.count_documents instead.\n",
      "D:\\Anaconda3\\lib\\site-packages\\ipykernel_launcher.py:22: DeprecationWarning: count is deprecated. Use Collection.count_documents instead.\n",
      "D:\\Anaconda3\\lib\\site-packages\\ipykernel_launcher.py:23: DeprecationWarning: count is deprecated. Use Collection.count_documents instead.\n",
      "D:\\Anaconda3\\lib\\site-packages\\ipykernel_launcher.py:24: DeprecationWarning: count is deprecated. Use Collection.count_documents instead.\n",
      "D:\\Anaconda3\\lib\\site-packages\\ipykernel_launcher.py:25: DeprecationWarning: count is deprecated. Use Collection.count_documents instead.\n",
      "D:\\Anaconda3\\lib\\site-packages\\ipykernel_launcher.py:26: DeprecationWarning: count is deprecated. Use Collection.count_documents instead.\n",
      "D:\\Anaconda3\\lib\\site-packages\\ipykernel_launcher.py:29: DeprecationWarning: count is deprecated. Use Collection.count_documents instead.\n",
      "D:\\Anaconda3\\lib\\site-packages\\ipykernel_launcher.py:30: DeprecationWarning: count is deprecated. Use Collection.count_documents instead.\n",
      "D:\\Anaconda3\\lib\\site-packages\\ipykernel_launcher.py:31: DeprecationWarning: count is deprecated. Use Collection.count_documents instead.\n",
      "D:\\Anaconda3\\lib\\site-packages\\ipykernel_launcher.py:32: DeprecationWarning: count is deprecated. Use Collection.count_documents instead.\n",
      "D:\\Anaconda3\\lib\\site-packages\\ipykernel_launcher.py:33: DeprecationWarning: count is deprecated. Use Collection.count_documents instead.\n",
      "D:\\Anaconda3\\lib\\site-packages\\ipykernel_launcher.py:34: DeprecationWarning: count is deprecated. Use Collection.count_documents instead.\n"
     ]
    },
    {
     "data": {
      "text/plain": [
       "Text(0.5,1,'Count the amount of retweets')"
      ]
     },
     "execution_count": 30,
     "metadata": {},
     "output_type": "execute_result"
    },
    {
     "data": {
      "image/png": "[encoded data removed]",
      "text/plain": [
       "<Figure size 432x288 with 1 Axes>"
      ]
     },
     "metadata": {},
     "output_type": "display_data"
    }
   ],
   "source": [
    "db = client.tweet_db\n",
    "gla = db.tweet_collection7\n",
    "sample_count = np.zeros(6)\n",
    "\n",
    "sample_count[0]=gla.find({'created_at': {\"$gte\":\"Thu Nov 15 23:02:26 +0000 2018\",\"$lte\":\"Thu Nov 15 23:12:26 +0000 2018\"}, 'retweeted_status':None}).count()\n",
    "sample_count[1]=gla.find({'created_at': {\"$gte\":\"Thu Nov 15 23:12:26 +0000 2018\",\"$lte\":\"Thu Nov 15 23:22:26 +0000 2018\"}, 'retweeted_status':None}).count()\n",
    "sample_count[2]=gla.find({'created_at': {\"$gte\":\"Thu Nov 15 23:22:26 +0000 2018\",\"$lte\":\"Thu Nov 15 23:32:26 +0000 2018\"}, 'retweeted_status':None}).count()\n",
    "sample_count[3]=gla.find({'created_at': {\"$gte\":\"Thu Nov 15 23:32:26 +0000 2018\",\"$lte\":\"Thu Nov 15 23:42:26 +0000 2018\"}, 'retweeted_status':None}).count()\n",
    "sample_count[4]=gla.find({'created_at': {\"$gte\":\"Thu Nov 15 23:42:26 +0000 2018\",\"$lte\":\"Thu Nov 15 23:52:26 +0000 2018\"}, 'retweeted_status':None}).count()\n",
    "sample_count[5]=gla.find({'created_at': {\"$gte\":\"Thu Nov 15 23:52:26 +0000 2018\",\"$lte\":\"Thu Nov 16 00:02:26 +0000 2018\"}, 'retweeted_status':None}).count()\n",
    "\n",
    "gla = db.tweet_collection5\n",
    "sample_count[0]+=gla.find({'created_at': {\"$gte\":\"Thu Nov 15 14:50:21 +0000 2018\",\"$lte\":\"Thu Nov 15 15:00:21 +0000 2018\"}, 'retweeted_status':None}).count()\n",
    "sample_count[1]+=gla.find({'created_at': {\"$gte\":\"Thu Nov 15 15:00:21 +0000 2018\",\"$lte\":\"Thu Nov 15 15:10:21 +0000 2018\"}, 'retweeted_status':None}).count()\n",
    "sample_count[2]+=gla.find({'created_at': {\"$gte\":\"Thu Nov 15 15:10:21 +0000 2018\",\"$lte\":\"Thu Nov 15 15:20:21 +0000 2018\"}, 'retweeted_status':None}).count()\n",
    "sample_count[3]+=gla.find({'created_at': {\"$gte\":\"Thu Nov 15 15:20:21 +0000 2018\",\"$lte\":\"Thu Nov 15 15:30:21 +0000 2018\"}, 'retweeted_status':None}).count()\n",
    "sample_count[4]+=gla.find({'created_at': {\"$gte\":\"Thu Nov 15 15:30:21 +0000 2018\",\"$lte\":\"Thu Nov 15 15:40:21 +0000 2018\"}, 'retweeted_status':None}).count()\n",
    "sample_count[5]+=gla.find({'created_at': {\"$gte\":\"Thu Nov 15 15:40:21 +0000 2018\",\"$lte\":\"Thu Nov 15 15:50:21 +0000 2018\"}, 'retweeted_status':None}).count()\n",
    "\n",
    "gla = db.tweet_collection8\n",
    "sample_count[0]+=gla.find({'created_at': {\"$gte\":\"Thu Nov 15 23:18:02 +0000 2018\",\"$lte\":\"Thu Nov 15 23:28:02 +0000 2018\"}, 'retweeted_status':None}).count()\n",
    "sample_count[1]+=gla.find({'created_at': {\"$gte\":\"Thu Nov 15 23:28:02 +0000 2018\",\"$lte\":\"Thu Nov 15 23:38:02 +0000 2018\"}, 'retweeted_status':None}).count()\n",
    "sample_count[2]+=gla.find({'created_at': {\"$gte\":\"Thu Nov 15 23:38:02 +0000 2018\",\"$lte\":\"Thu Nov 15 23:48:02 +0000 2018\"}, 'retweeted_status':None}).count()\n",
    "sample_count[3]+=gla.find({'created_at': {\"$gte\":\"Thu Nov 15 23:48:02 +0000 2018\",\"$lte\":\"Thu Nov 15 23:58:02 +0000 2018\"}, 'retweeted_status':None}).count()\n",
    "sample_count[4]+=gla.find({'created_at': {\"$gte\":\"Thu Nov 15 23:58:02 +0000 2018\",\"$lte\":\"Thu Nov 16 00:08:02 +0000 2018\"}, 'retweeted_status':None}).count()\n",
    "sample_count[5]+=gla.find({'created_at': {\"$gte\":\"Thu Nov 16 00:08:02 +0000 2018\",\"$lte\":\"Thu Nov 16 00:18:02 +0000 2018\"}, 'retweeted_status':None}).count()\n",
    "\n",
    "gla = db.tweet_collection6\n",
    "sample_count[0]+=gla.find({'created_at': {\"$gte\":\"Thu Nov 15 14:50:24 +0000 2018\",\"$lte\":\"Thu Nov 15 15:00:24 +0000 2018\"}, 'retweeted_status':None}).count()\n",
    "sample_count[1]+=gla.find({'created_at': {\"$gte\":\"Thu Nov 15 15:00:24 +0000 2018\",\"$lte\":\"Thu Nov 15 15:10:24 +0000 2018\"}, 'retweeted_status':None}).count()\n",
    "sample_count[2]+=gla.find({'created_at': {\"$gte\":\"Thu Nov 15 15:10:24 +0000 2018\",\"$lte\":\"Thu Nov 15 15:20:24 +0000 2018\"}, 'retweeted_status':None}).count()\n",
    "sample_count[3]+=gla.find({'created_at': {\"$gte\":\"Thu Nov 15 15:20:24 +0000 2018\",\"$lte\":\"Thu Nov 15 15:30:24 +0000 2018\"}, 'retweeted_status':None}).count()\n",
    "sample_count[4]+=gla.find({'created_at': {\"$gte\":\"Thu Nov 15 15:30:24 +0000 2018\",\"$lte\":\"Thu Nov 15 15:40:24 +0000 2018\"}, 'retweeted_status':None}).count()\n",
    "sample_count[5]+=gla.find({'created_at': {\"$gte\":\"Thu Nov 15 15:40:24 +0000 2018\",\"$lte\":\"Thu Nov 15 15:50:24 +0000 2018\"}, 'retweeted_status':None}).count()\n",
    "\n",
    "retweet = np.zeros(6)\n",
    "retweet[0] = total_data[0] - sample_count[0]\n",
    "retweet[1] = total_data[1] - sample_count[1]\n",
    "retweet[2] = total_data[2] - sample_count[2]\n",
    "retweet[3] = total_data[3] - sample_count[3]\n",
    "retweet[4] = total_data[4] - sample_count[4]\n",
    "retweet[5] = total_data[5] - sample_count[5]\n",
    "\n",
    "fig=plt.figure()\n",
    "ax=fig.add_subplot(1,1,1)\n",
    "ax.bar(range(len(retweet)),retweet)\n",
    "ax.set_title(\"Count the amount of retweets\")"
   ]
  },
  {
   "cell_type": "markdown",
   "metadata": {},
   "source": [
    "## count the amount of quotes"
   ]
  },
  {
   "cell_type": "code",
   "execution_count": 31,
   "metadata": {},
   "outputs": [
    {
     "name": "stderr",
     "output_type": "stream",
     "text": [
      "D:\\Anaconda3\\lib\\site-packages\\ipykernel_launcher.py:6: DeprecationWarning: count is deprecated. Use Collection.count_documents instead.\n",
      "  \n",
      "D:\\Anaconda3\\lib\\site-packages\\ipykernel_launcher.py:7: DeprecationWarning: count is deprecated. Use Collection.count_documents instead.\n",
      "  import sys\n",
      "D:\\Anaconda3\\lib\\site-packages\\ipykernel_launcher.py:8: DeprecationWarning: count is deprecated. Use Collection.count_documents instead.\n",
      "  \n",
      "D:\\Anaconda3\\lib\\site-packages\\ipykernel_launcher.py:9: DeprecationWarning: count is deprecated. Use Collection.count_documents instead.\n",
      "  if __name__ == '__main__':\n",
      "D:\\Anaconda3\\lib\\site-packages\\ipykernel_launcher.py:10: DeprecationWarning: count is deprecated. Use Collection.count_documents instead.\n",
      "  # Remove the CWD from sys.path while we load stuff.\n",
      "D:\\Anaconda3\\lib\\site-packages\\ipykernel_launcher.py:11: DeprecationWarning: count is deprecated. Use Collection.count_documents instead.\n",
      "  # This is added back by InteractiveShellApp.init_path()\n",
      "D:\\Anaconda3\\lib\\site-packages\\ipykernel_launcher.py:14: DeprecationWarning: count is deprecated. Use Collection.count_documents instead.\n",
      "  \n",
      "D:\\Anaconda3\\lib\\site-packages\\ipykernel_launcher.py:15: DeprecationWarning: count is deprecated. Use Collection.count_documents instead.\n",
      "  from ipykernel import kernelapp as app\n",
      "D:\\Anaconda3\\lib\\site-packages\\ipykernel_launcher.py:16: DeprecationWarning: count is deprecated. Use Collection.count_documents instead.\n",
      "  app.launch_new_instance()\n",
      "D:\\Anaconda3\\lib\\site-packages\\ipykernel_launcher.py:17: DeprecationWarning: count is deprecated. Use Collection.count_documents instead.\n",
      "D:\\Anaconda3\\lib\\site-packages\\ipykernel_launcher.py:18: DeprecationWarning: count is deprecated. Use Collection.count_documents instead.\n",
      "D:\\Anaconda3\\lib\\site-packages\\ipykernel_launcher.py:19: DeprecationWarning: count is deprecated. Use Collection.count_documents instead.\n",
      "D:\\Anaconda3\\lib\\site-packages\\ipykernel_launcher.py:22: DeprecationWarning: count is deprecated. Use Collection.count_documents instead.\n",
      "D:\\Anaconda3\\lib\\site-packages\\ipykernel_launcher.py:23: DeprecationWarning: count is deprecated. Use Collection.count_documents instead.\n",
      "D:\\Anaconda3\\lib\\site-packages\\ipykernel_launcher.py:24: DeprecationWarning: count is deprecated. Use Collection.count_documents instead.\n",
      "D:\\Anaconda3\\lib\\site-packages\\ipykernel_launcher.py:25: DeprecationWarning: count is deprecated. Use Collection.count_documents instead.\n",
      "D:\\Anaconda3\\lib\\site-packages\\ipykernel_launcher.py:26: DeprecationWarning: count is deprecated. Use Collection.count_documents instead.\n",
      "D:\\Anaconda3\\lib\\site-packages\\ipykernel_launcher.py:27: DeprecationWarning: count is deprecated. Use Collection.count_documents instead.\n",
      "D:\\Anaconda3\\lib\\site-packages\\ipykernel_launcher.py:30: DeprecationWarning: count is deprecated. Use Collection.count_documents instead.\n",
      "D:\\Anaconda3\\lib\\site-packages\\ipykernel_launcher.py:31: DeprecationWarning: count is deprecated. Use Collection.count_documents instead.\n",
      "D:\\Anaconda3\\lib\\site-packages\\ipykernel_launcher.py:32: DeprecationWarning: count is deprecated. Use Collection.count_documents instead.\n",
      "D:\\Anaconda3\\lib\\site-packages\\ipykernel_launcher.py:33: DeprecationWarning: count is deprecated. Use Collection.count_documents instead.\n",
      "D:\\Anaconda3\\lib\\site-packages\\ipykernel_launcher.py:34: DeprecationWarning: count is deprecated. Use Collection.count_documents instead.\n",
      "D:\\Anaconda3\\lib\\site-packages\\ipykernel_launcher.py:35: DeprecationWarning: count is deprecated. Use Collection.count_documents instead.\n"
     ]
    },
    {
     "data": {
      "text/plain": [
       "Text(0.5,1,'Count the amount of quotes')"
      ]
     },
     "execution_count": 31,
     "metadata": {},
     "output_type": "execute_result"
    },
    {
     "data": {
      "image/png": "[encoded data removed]",
      "text/plain": [
       "<Figure size 432x288 with 1 Axes>"
      ]
     },
     "metadata": {},
     "output_type": "display_data"
    }
   ],
   "source": [
    "db = client.tweet_db\n",
    "gla = db.tweet_collection7\n",
    "sample_count = np.zeros(6)\n",
    "\n",
    "\n",
    "sample_count[0]=gla.find({'created_at': {\"$gte\":\"Thu Nov 15 23:02:26 +0000 2018\",\"$lte\":\"Thu Nov 15 23:12:26 +0000 2018\"}, 'is_quote_status':False}).count()\n",
    "sample_count[1]=gla.find({'created_at': {\"$gte\":\"Thu Nov 15 23:12:26 +0000 2018\",\"$lte\":\"Thu Nov 15 23:22:26 +0000 2018\"}, 'is_quote_status':False}).count()\n",
    "sample_count[2]=gla.find({'created_at': {\"$gte\":\"Thu Nov 15 23:22:26 +0000 2018\",\"$lte\":\"Thu Nov 15 23:32:26 +0000 2018\"}, 'is_quote_status':False}).count()\n",
    "sample_count[3]=gla.find({'created_at': {\"$gte\":\"Thu Nov 15 23:32:26 +0000 2018\",\"$lte\":\"Thu Nov 15 23:42:26 +0000 2018\"}, 'is_quote_status':False}).count()\n",
    "sample_count[4]=gla.find({'created_at': {\"$gte\":\"Thu Nov 15 23:42:26 +0000 2018\",\"$lte\":\"Thu Nov 15 23:52:26 +0000 2018\"}, 'is_quote_status':False}).count()\n",
    "sample_count[5]=gla.find({'created_at': {\"$gte\":\"Thu Nov 15 23:52:26 +0000 2018\",\"$lte\":\"Thu Nov 16 00:02:26 +0000 2018\"}, 'is_quote_status':False}).count()\n",
    "\n",
    "gla = db.tweet_collection5\n",
    "sample_count[0]+=gla.find({'created_at': {\"$gte\":\"Thu Nov 15 14:50:21 +0000 2018\",\"$lte\":\"Thu Nov 15 15:00:21 +0000 2018\"}, 'is_quote_status':False}).count()\n",
    "sample_count[1]+=gla.find({'created_at': {\"$gte\":\"Thu Nov 15 15:00:21 +0000 2018\",\"$lte\":\"Thu Nov 15 15:10:21 +0000 2018\"}, 'is_quote_status':False}).count()\n",
    "sample_count[2]+=gla.find({'created_at': {\"$gte\":\"Thu Nov 15 15:10:21 +0000 2018\",\"$lte\":\"Thu Nov 15 15:20:21 +0000 2018\"}, 'is_quote_status':False}).count()\n",
    "sample_count[3]+=gla.find({'created_at': {\"$gte\":\"Thu Nov 15 15:20:21 +0000 2018\",\"$lte\":\"Thu Nov 15 15:30:21 +0000 2018\"}, 'is_quote_status':False}).count()\n",
    "sample_count[4]+=gla.find({'created_at': {\"$gte\":\"Thu Nov 15 15:30:21 +0000 2018\",\"$lte\":\"Thu Nov 15 15:40:21 +0000 2018\"}, 'is_quote_status':False}).count()\n",
    "sample_count[5]+=gla.find({'created_at': {\"$gte\":\"Thu Nov 15 15:40:21 +0000 2018\",\"$lte\":\"Thu Nov 15 15:50:21 +0000 2018\"}, 'is_quote_status':False}).count()\n",
    "\n",
    "gla = db.tweet_collection8\n",
    "sample_count[0]+=gla.find({'created_at': {\"$gte\":\"Thu Nov 15 23:18:02 +0000 2018\",\"$lte\":\"Thu Nov 15 23:28:02 +0000 2018\"}, 'is_quote_status':False}).count()\n",
    "sample_count[1]+=gla.find({'created_at': {\"$gte\":\"Thu Nov 15 23:28:02 +0000 2018\",\"$lte\":\"Thu Nov 15 23:38:02 +0000 2018\"}, 'is_quote_status':False}).count()\n",
    "sample_count[2]+=gla.find({'created_at': {\"$gte\":\"Thu Nov 15 23:38:02 +0000 2018\",\"$lte\":\"Thu Nov 15 23:48:02 +0000 2018\"}, 'is_quote_status':False}).count()\n",
    "sample_count[3]+=gla.find({'created_at': {\"$gte\":\"Thu Nov 15 23:48:02 +0000 2018\",\"$lte\":\"Thu Nov 15 23:58:02 +0000 2018\"}, 'is_quote_status':False}).count()\n",
    "sample_count[4]+=gla.find({'created_at': {\"$gte\":\"Thu Nov 15 23:58:02 +0000 2018\",\"$lte\":\"Thu Nov 16 00:08:02 +0000 2018\"}, 'is_quote_status':False}).count()\n",
    "sample_count[5]+=gla.find({'created_at': {\"$gte\":\"Thu Nov 16 00:08:02 +0000 2018\",\"$lte\":\"Thu Nov 16 00:18:02 +0000 2018\"}, 'is_quote_status':False}).count()\n",
    "\n",
    "gla = db.tweet_collection6\n",
    "sample_count[0]+=gla.find({'created_at': {\"$gte\":\"Thu Nov 15 14:50:24 +0000 2018\",\"$lte\":\"Thu Nov 15 15:00:24 +0000 2018\"}, 'is_quote_status':False}).count()\n",
    "sample_count[1]+=gla.find({'created_at': {\"$gte\":\"Thu Nov 15 15:00:24 +0000 2018\",\"$lte\":\"Thu Nov 15 15:10:24 +0000 2018\"}, 'is_quote_status':False}).count()\n",
    "sample_count[2]+=gla.find({'created_at': {\"$gte\":\"Thu Nov 15 15:10:24 +0000 2018\",\"$lte\":\"Thu Nov 15 15:20:24 +0000 2018\"}, 'is_quote_status':False}).count()\n",
    "sample_count[3]+=gla.find({'created_at': {\"$gte\":\"Thu Nov 15 15:20:24 +0000 2018\",\"$lte\":\"Thu Nov 15 15:30:24 +0000 2018\"}, 'is_quote_status':False}).count()\n",
    "sample_count[4]+=gla.find({'created_at': {\"$gte\":\"Thu Nov 15 15:30:24 +0000 2018\",\"$lte\":\"Thu Nov 15 15:40:24 +0000 2018\"}, 'is_quote_status':False}).count()\n",
    "sample_count[5]+=gla.find({'created_at': {\"$gte\":\"Thu Nov 15 15:40:24 +0000 2018\",\"$lte\":\"Thu Nov 15 15:50:24 +0000 2018\"}, 'is_quote_status':False}).count()\n",
    "\n",
    "quote = np.zeros(6)\n",
    "quote[0] = total_data[0] - sample_count[0]\n",
    "quote[1] = total_data[1] - sample_count[1]\n",
    "quote[2] = total_data[2] - sample_count[2]\n",
    "quote[3] = total_data[3] - sample_count[3]\n",
    "quote[4] = total_data[4] - sample_count[4]\n",
    "quote[5] = total_data[5] - sample_count[5]\n",
    "\n",
    "fig=plt.figure()\n",
    "ax=fig.add_subplot(1,1,1)\n",
    "ax.bar(range(len(quote)),quote)\n",
    "ax.set_title(\"Count the amount of quotes\")"
   ]
  },
  {
   "cell_type": "code",
   "execution_count": null,
   "metadata": {},
   "outputs": [],
   "source": []
  }
 ],
 "metadata": {
  "kernelspec": {
   "display_name": "Python 3",
   "language": "python",
   "name": "python3"
  },
  "language_info": {
   "codemirror_mode": {
    "name": "ipython",
    "version": 3
   },
   "file_extension": ".py",
   "mimetype": "text/x-python",
   "name": "python",
   "nbconvert_exporter": "python",
   "pygments_lexer": "ipython3",
   "version": "3.6.5"
  }
 },
 "nbformat": 4,
 "nbformat_minor": 2
}
