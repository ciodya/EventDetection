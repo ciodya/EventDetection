{
 "cells": [
  {
   "cell_type": "markdown",
   "metadata": {},
   "source": [
    "# section 5: youtube data analysis"
   ]
  },
  {
   "cell_type": "code",
   "execution_count": 5,
   "metadata": {},
   "outputs": [],
   "source": [
    "import pymongo\n",
    "\n",
    "from pymongo import MongoClient\n",
    "\n",
    "import json\n",
    "\n",
    "from pprint import pprint\n",
    "\n",
    "import sys\n",
    "\n",
    "import numpy as np\n",
    "\n",
    "import matplotlib.pyplot as plt\n",
    "\n",
    "\n",
    "\"\"\"connect to monoDB\"\"\"\n",
    "\n",
    "client = MongoClient()"
   ]
  },
  {
   "cell_type": "markdown",
   "metadata": {},
   "source": [
    "# count the amount of data"
   ]
  },
  {
   "cell_type": "code",
   "execution_count": 14,
   "metadata": {},
   "outputs": [
    {
     "data": {
      "text/plain": [
       "([<matplotlib.axis.XTick at 0x1bc91660b00>,\n",
       "  <matplotlib.axis.XTick at 0x1bc91660438>],\n",
       " <a list of 2 Text xticklabel objects>)"
      ]
     },
     "execution_count": 14,
     "metadata": {},
     "output_type": "execute_result"
    },
    {
     "data": {
      "image/png": "[encoded data removed]",
      "text/plain": [
       "<Figure size 432x288 with 1 Axes>"
      ]
     },
     "metadata": {},
     "output_type": "display_data"
    }
   ],
   "source": [
    "db = client.youtube\n",
    "gla = db.gla\n",
    "topic = db.topic\n",
    "rect = np.zeros(2)\n",
    "rect[0] = gla.count_documents({})\n",
    "rect[1] = topic.count_documents({})\n",
    "\n",
    "fig=plt.figure()\n",
    "ax=fig.add_subplot(1,1,1)\n",
    "ax.bar(range(len(rect)),rect)\n",
    "ax.set_title(\"Count the amount of data \")\n",
    "plt.xticks((0,1), ('glasgow', 'topic-based'))"
   ]
  },
  {
   "cell_type": "code",
   "execution_count": 10,
   "metadata": {},
   "outputs": [
    {
     "name": "stderr",
     "output_type": "stream",
     "text": [
      "D:\\Anaconda3\\lib\\site-packages\\ipykernel_launcher.py:5: DeprecationWarning: count is deprecated. Use Collection.count_documents instead.\n",
      "  \"\"\"\n",
      "D:\\Anaconda3\\lib\\site-packages\\ipykernel_launcher.py:6: DeprecationWarning: count is deprecated. Use Collection.count_documents instead.\n",
      "  \n",
      "D:\\Anaconda3\\lib\\site-packages\\ipykernel_launcher.py:7: DeprecationWarning: count is deprecated. Use Collection.count_documents instead.\n",
      "  import sys\n",
      "D:\\Anaconda3\\lib\\site-packages\\ipykernel_launcher.py:8: DeprecationWarning: count is deprecated. Use Collection.count_documents instead.\n",
      "  \n",
      "D:\\Anaconda3\\lib\\site-packages\\ipykernel_launcher.py:9: DeprecationWarning: count is deprecated. Use Collection.count_documents instead.\n",
      "  if __name__ == '__main__':\n",
      "D:\\Anaconda3\\lib\\site-packages\\ipykernel_launcher.py:10: DeprecationWarning: count is deprecated. Use Collection.count_documents instead.\n",
      "  # Remove the CWD from sys.path while we load stuff.\n"
     ]
    },
    {
     "data": {
      "text/plain": [
       "Text(0.5,1,'Count the amount of data ')"
      ]
     },
     "execution_count": 10,
     "metadata": {},
     "output_type": "execute_result"
    },
    {
     "data": {
      "image/png": "[encoded data removed]",
      "text/plain": [
       "<Figure size 432x288 with 1 Axes>"
      ]
     },
     "metadata": {},
     "output_type": "display_data"
    }
   ],
   "source": [
    "db = client.youtube\n",
    "gla = db.topic\n",
    "sample_count = np.zeros(6)\n",
    "\n",
    "sample_count[0]=gla.find({'publishedAt': {\"$gte\":\"2016-02-04T20:30:13.000Z\",\"$lte\":\"2016-07-04T20:30:13.000Z\"}}).count()\n",
    "sample_count[1]=gla.find({'publishedAt': {\"$gte\":\"2016-07-04T20:30:13.000Z\",\"$lte\":\"2016-12-04T20:30:13.000Z\"}}).count()\n",
    "sample_count[2]=gla.find({'publishedAt': {\"$gte\":\"2016-12-04T20:30:13.000Z\",\"$lte\":\"2017-05-04T20:30:13.000Z\"}}).count()\n",
    "sample_count[3]=gla.find({'publishedAt': {\"$gte\":\"2017-05-04T20:30:13.000Z\",\"$lte\":\"2017-10-04T20:30:13.000Z\"}}).count()\n",
    "sample_count[4]=gla.find({'publishedAt': {\"$gte\":\"2017-10-04T20:30:13.000Z\",\"$lte\":\"2018-03-04T20:30:13.000Z\"}}).count()\n",
    "sample_count[5]=gla.find({'publishedAt': {\"$gte\":\"2018-03-04T20:30:13.000Z\",\"$lte\":\"2018-12-04T20:30:13.000Z\"}}).count()\n",
    "\n",
    "fig=plt.figure()\n",
    "ax=fig.add_subplot(1,1,1)\n",
    "ax.bar(range(len(sample_count)),sample_count)\n",
    "ax.set_title(\"Count the amount of data \")"
   ]
  },
  {
   "cell_type": "code",
   "execution_count": 9,
   "metadata": {},
   "outputs": [
    {
     "name": "stderr",
     "output_type": "stream",
     "text": [
      "D:\\Anaconda3\\lib\\site-packages\\ipykernel_launcher.py:11: DeprecationWarning: count is deprecated. Use Collection.count_documents instead.\n",
      "  # This is added back by InteractiveShellApp.init_path()\n",
      "D:\\Anaconda3\\lib\\site-packages\\matplotlib\\cbook\\deprecation.py:107: MatplotlibDeprecationWarning: Adding an axes using the same arguments as a previous axes currently reuses the earlier instance.  In a future version, a new instance will always be created and returned.  Meanwhile, this warning can be suppressed, and the future behavior ensured, by passing a unique label to each axes instance.\n",
      "  warnings.warn(message, mplDeprecation, stacklevel=1)\n"
     ]
    },
    {
     "data": {
      "text/plain": [
       "Text(0.5,1,'Count the amount of data ')"
      ]
     },
     "execution_count": 9,
     "metadata": {},
     "output_type": "execute_result"
    },
    {
     "data": {
      "image/png": "[encoded data removed]",
      "text/plain": [
       "<Figure size 432x288 with 1 Axes>"
      ]
     },
     "metadata": {},
     "output_type": "display_data"
    }
   ],
   "source": [
    "db = client.youtube\n",
    "\n",
    "gla = db.topic\n",
    "rect = np.zeros(20)\n",
    "\n",
    "tweets = gla.aggregate([{\"$group\":{\"_id\":\"$channelTitle\"}}])\n",
    "i = 0\n",
    "\n",
    "for tweet in tweets:\n",
    "    id = tweet['_id']\n",
    "    rect[i] = gla.find({\"channelTitle\":id}).count()\n",
    "    i += 1\n",
    "\n",
    "fig=plt.figure()\n",
    "plt.ylim(0,10)\n",
    "ax=fig.add_subplot(1,1,1)\n",
    "ax.bar(range(len(rect)),rect)\n",
    "ax.set_title(\"Count the amount of data \")"
   ]
  },
  {
   "cell_type": "code",
   "execution_count": null,
   "metadata": {},
   "outputs": [],
   "source": []
  }
 ],
 "metadata": {
  "kernelspec": {
   "display_name": "Python 3",
   "language": "python",
   "name": "python3"
  },
  "language_info": {
   "codemirror_mode": {
    "name": "ipython",
    "version": 3
   },
   "file_extension": ".py",
   "mimetype": "text/x-python",
   "name": "python",
   "nbconvert_exporter": "python",
   "pygments_lexer": "ipython3",
   "version": "3.6.5"
  }
 },
 "nbformat": 4,
 "nbformat_minor": 2
}
