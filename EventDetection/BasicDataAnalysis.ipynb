{
 "cells": [
  {
   "cell_type": "markdown",
   "metadata": {},
   "source": [
    "# Task 3"
   ]
  },
  {
   "cell_type": "code",
   "execution_count": 2,
   "metadata": {},
   "outputs": [],
   "source": [
    "import spacy\n",
    "from spacy import displacy\n",
    "from collections import Counter\n",
    "import en_core_web_sm\n",
    "import pymongo\n",
    "\n",
    "from pymongo import MongoClient\n",
    "\n",
    "import json\n",
    "\n",
    "from pprint import pprint\n",
    "\n",
    "import sys\n",
    "\n",
    "\"\"\"connect to monoDB\"\"\"\n",
    "\n",
    "client = MongoClient()\n",
    "\n",
    "db = client.new2"
   ]
  },
  {
   "cell_type": "markdown",
   "metadata": {},
   "source": [
    "## NER filter "
   ]
  },
  {
   "cell_type": "code",
   "execution_count": 17,
   "metadata": {},
   "outputs": [],
   "source": [
    "total4 = db.NERfilter\n",
    "tweets = db.total3.find()\n",
    "for tweet in tweets:\n",
    "    keys = tweet.keys()\n",
    "    doc = nlp(tweet['text'])\n",
    "    labels = [x.label_ for x in doc.ents]\n",
    "    Counter(labels)\n",
    "    if ('PERSON' in labels or 'LOC' in labels or 'ORG' in labels):\n",
    "        total4.insert_one(tweet)\n",
    "    else:\n",
    "        pass"
   ]
  },
  {
   "cell_type": "markdown",
   "metadata": {},
   "source": [
    "## NER filter 2 PERSON/LOC/ORG labels "
   ]
  },
  {
   "cell_type": "code",
   "execution_count": 2,
   "metadata": {},
   "outputs": [],
   "source": [
    "total5 = db.noise_filter\n",
    "total4 = db.NERfilter\n",
    "\n",
    "sets = total4.find()\n",
    "\n",
    "nlp = en_core_web_sm.load()\n",
    "\n",
    "for set in sets:\n",
    "    doc = nlp(set['text'])\n",
    "    orgstr = \"\"\n",
    "    locstr = \"\"\n",
    "    pstr = \"\"\n",
    "    for X in doc.ents:\n",
    "        str = X.label_\n",
    "        if (str is \"ORG\"):\n",
    "            orgstr = orgstr + \",\" + X.text\n",
    "        elif (str is \"LOC\"):\n",
    "            locstr = locstr + \",\" + X.text\n",
    "        elif (str is \"PERSON\"):\n",
    "            pstr = pstr + \",\" + X.text\n",
    "\n",
    "    if (orgstr is not \"\") or (locstr is not \"\") or (pstr is not \"\"):\n",
    "        id=set['id']\n",
    "\n",
    "        total5.insert_one(set)\n",
    "\n",
    "        myquery = {\"id\": id}\n",
    "        newvalues = {\"$set\": {\"ORG\": orgstr,\"LOC\": locstr,\"PERSON\": pstr}}\n",
    "        total5.update_one(myquery, newvalues)"
   ]
  },
  {
   "cell_type": "markdown",
   "metadata": {},
   "source": [
    "## extract PERSON/ORG/LOC labels from text  "
   ]
  },
  {
   "cell_type": "code",
   "execution_count": 5,
   "metadata": {},
   "outputs": [],
   "source": [
    "total5 = db.noise_filter\n",
    "total6 = db.addtag\n",
    "\n",
    "sets = total5.find()\n",
    "\n",
    "nlp = en_core_web_sm.load()\n",
    "\n",
    "for set in sets:\n",
    "    doc = nlp(set['text'])\n",
    "\n",
    "    org = 0\n",
    "    loc = 0\n",
    "    person = 0\n",
    "\n",
    "    orgstr = \"\"\n",
    "    locstr = \"\"\n",
    "    pstr = \"\"\n",
    "\n",
    "\n",
    "    for X in doc.ents:\n",
    "        str = X.label_\n",
    "        if ord(X.text[0])>64 and ord(X.text[0])<123:\n",
    "            if (str is \"ORG\"):\n",
    "                if(i1==0):\n",
    "                    orgstr = X.text.lower()\n",
    "                    org==1\n",
    "\n",
    "            elif (str is \"LOC\"):\n",
    "                if(i2==0):\n",
    "                    locstr =  X.text.lower()\n",
    "                    loc=1\n",
    "\n",
    "            elif (str is \"PERSON\"):\n",
    "                if(i3==0):\n",
    "                    pstr = X.text.lower()\n",
    "                    person=1\n",
    "\n",
    "\n",
    "\n",
    "\n",
    "\n",
    "    if (orgstr is not \"\") or (locstr is not \"\") or (pstr is not \"\"):\n",
    "        id=set['id']\n",
    "\n",
    "        total6.insert_one({\"id\":id,\"ORG\": orgstr,\"LOC\": locstr,\"PERSON\": pstr,\"total_tag\": 0,\"org_tag\":0,\"person_tag\":0,\"loc_tag\":0,\"Amount\":0})\n"
   ]
  },
  {
   "cell_type": "markdown",
   "metadata": {},
   "source": [
    "##  add tags for PERSON/LOC/ORG labels "
   ]
  },
  {
   "cell_type": "code",
   "execution_count": 12,
   "metadata": {},
   "outputs": [
    {
     "name": "stdout",
     "output_type": "stream",
     "text": [
      "2442\n",
      "2832\n",
      "118\n",
      "org 2832\n",
      "person 12442\n",
      "loc 20118\n",
      "4434\n"
     ]
    }
   ],
   "source": [
    "total6 = db.addtag\n",
    "\n",
    "import operator\n",
    "\n",
    "\n",
    "DISTANCE = 10000\n",
    "\n",
    "\n",
    "orgtagged = []\n",
    "persontagged = []\n",
    "loctagged = []\n",
    "\n",
    "\n",
    "DATASET= total6.aggregate([{\"$group\":{\"_id\":\"$PERSON\"}}])\n",
    "for data in DATASET:\n",
    "    if not operator.eq(data['_id'],\"\"):\n",
    "        persontagged.append(data['_id'])\n",
    "print(len(persontagged))\n",
    "\n",
    "DATASET= total6.aggregate([{\"$group\":{\"_id\":\"$ORG\"}}])\n",
    "for data in DATASET:\n",
    "    if not operator.eq(data['_id'], \"\"):\n",
    "        orgtagged.append(data['_id'])\n",
    "print(len(orgtagged))\n",
    "\n",
    "DATASET= total6.aggregate([{\"$group\":{\"_id\":\"$LOC\"}}])\n",
    "for data in DATASET:\n",
    "    if not operator.eq(data['_id'], \"\"):\n",
    "        loctagged.append(data['_id'])\n",
    "print(len(loctagged))\n",
    "\n",
    "\n",
    "#step 1\n",
    "\n",
    "tag = 0\n",
    "tag1 = DISTANCE\n",
    "tag2 = DISTANCE * 2\n",
    "tag3 = DISTANCE * 3\n",
    "\n",
    "orgONE = []\n",
    "personONE = []\n",
    "locONE = []\n",
    "\n",
    "query = {\"total_tag\": {'$ne':0}}\n",
    "addvalues = {\"$set\": {\"total_tag\": 0,\"org_tag\":0,\"person_tag\":0,\"loc_tag\":0}}\n",
    "total6.update_many(query, addvalues)\n",
    "\n",
    "for i in range(len(orgtagged)):\n",
    "    ones = total6.find()\n",
    "    for one in ones:\n",
    "        if (operator.eq(one['ORG'],orgtagged[i])):\n",
    "            orgONE.append(orgtagged[i])\n",
    "            query = {\"_id\": one['_id']}\n",
    "            t=one['total_tag']+1\n",
    "            addvalues = {\"$set\": {\"NG\": tag,\"org_tag\":1,\"total_tag\":t}}\n",
    "            total6.update_many(query, addvalues)\n",
    "    tag = tag + 1\n",
    "print(\"org\",tag)\n",
    "\n",
    "for i in range(len(persontagged)):\n",
    "    ones = total6.find()\n",
    "    for one in ones:\n",
    "        if (operator.eq(one['PERSON'],persontagged[i])):\n",
    "            personONE.append(persontagged[i])\n",
    "            query = {\"_id\": one['_id']}\n",
    "            t = one['total_tag'] + 1\n",
    "            newvalues = {\"$set\": {\"NG\": tag1,\"person_tag\":1,\"total_tag\":t}}\n",
    "            total6.update_many(query, addvalues)\n",
    "    tag1 = tag1 + 1\n",
    "print(\"person\",tag1)\n",
    "\n",
    "for i in range(len(loctagged)):\n",
    "    ones = total6.find()\n",
    "    for one in ones:\n",
    "        if (operator.eq(one['LOC'],loctagged[i])):\n",
    "            locONE.append(loctagged[i])\n",
    "            query = {\"_id\": one['_id']}\n",
    "            t = one['total_tag'] + 1\n",
    "            addvalues = {\"$set\": {\"NG\": tag2,\"loc_tag\":1,\"total_tag\":t}}\n",
    "            total6.update_many(query, addvalues)\n",
    "    tag2 = tag2 + 1\n",
    "print(\"loc\",tag2)\n",
    "\n",
    "DATASET= total6.aggregate([{\"$group\":{\"_id\":\"$NG\"}}])\n",
    "\n",
    "i=0\n",
    "for data in DATASET:\n",
    "    i+=1\n",
    "\n",
    "ones = total6.find()\n",
    "for one in ones:\n",
    "    if (one['total_tag']==3):\n",
    "        query =  {'$or':[{\"LOC\": one['LOC']},{\"PERSON\": one['PERSON']},{\"ORG\": one['ORG']}]}\n",
    "        addvalues = {\"$set\": {\"NG\": tag3,\"total_tag\":4}}\n",
    "        total6.update_many(query, addvalues)\n",
    "        tag3 += 1\n",
    "\n",
    "\n",
    "    elif(one['total_tag']==2):\n",
    "\n",
    "        if one['org_tag']==1 and one['loc_tag']==1:\n",
    "            query = {'$or': [{\"LOC\": one['LOC']},{\"ORG\": one['ORG']}]}\n",
    "            addvalues = {\"$set\": {\"NG\": tag3, \"total_tag\": 5}}\n",
    "        elif one['org_tag']==1 and one['person_tag']==1:\n",
    "            query = {'$or': [{\"PERSON\": one['PERSON']},{\"ORG\": one['ORG']}]}\n",
    "            addvalues = {\"$set\": {\"NG\": tag3, \"total_tag\": 5}}\n",
    "        elif one['person_tag']==1 and one['loc_tag']==1:\n",
    "            query = {'$or': [{\"LOC\": one['LOC']},{\"PERSON\": one['PERSON']}]}\n",
    "            addvalues = {\"$set\": {\"NG\": tag3, \"total_tag\": 5}}\n",
    "\n",
    "        total6.update_many(query, addvalues)\n",
    "        tag3 += 1\n",
    "\n",
    "DATASET= total6.aggregate([{\"$group\":{\"_id\":\"$NG\"}}])\n",
    "\n",
    "i=0\n",
    "for data in DATASET:\n",
    "    i+=1\n",
    "print(i)\n"
   ]
  },
  {
   "cell_type": "markdown",
   "metadata": {},
   "source": [
    "## update the amount of each tag "
   ]
  },
  {
   "cell_type": "code",
   "execution_count": 12,
   "metadata": {},
   "outputs": [],
   "source": [
    "DATASET= total6.aggregate([{\"$group\":{\"_id\":\"$NG\"}}])\n",
    "\n",
    "i=0\n",
    "for data in DATASET:\n",
    "    ngs = total6.find({'NG': data['_id']})\n",
    "    count = 0\n",
    "    for ng in ngs:\n",
    "        count+=1\n",
    "\n",
    "    query = {\"NG\":data['_id'] }\n",
    "    addvalues = {\"$set\": {\"Amount\": count}}\n",
    "    total6.update_many(query, addvalues)\n",
    "    i+=1\n",
    "print(i)"
   ]
  },
  {
   "cell_type": "markdown",
   "metadata": {},
   "source": [
    "## create a new database to store grouped data "
   ]
  },
  {
   "cell_type": "code",
   "execution_count": 4,
   "metadata": {},
   "outputs": [],
   "source": [
    "total7 = db.grouping\n",
    "total6 = db.addtag\n",
    "\n",
    "query = {\"Amount\": {'$ne':1}}\n",
    "\n",
    "DATASET= total6.find(query)\n",
    "\n",
    "for data in DATASET:\n",
    "    total7.insert_one(data)"
   ]
  },
  {
   "cell_type": "markdown",
   "metadata": {},
   "source": [
    "## print the amount of groups  "
   ]
  },
  {
   "cell_type": "code",
   "execution_count": 5,
   "metadata": {},
   "outputs": [
    {
     "name": "stdout",
     "output_type": "stream",
     "text": [
      "564\n"
     ]
    }
   ],
   "source": [
    "DATASET= total7.aggregate([{\"$group\":{\"_id\":\"$NG\"}}])\n",
    "\n",
    "i=0\n",
    "for data in DATASET:\n",
    "    i+=1\n",
    "print(i)"
   ]
  },
  {
   "cell_type": "code",
   "execution_count": null,
   "metadata": {},
   "outputs": [],
   "source": []
  }
 ],
 "metadata": {
  "kernelspec": {
   "display_name": "Python 3",
   "language": "python",
   "name": "python3"
  },
  "language_info": {
   "codemirror_mode": {
    "name": "ipython",
    "version": 3
   },
   "file_extension": ".py",
   "mimetype": "text/x-python",
   "name": "python",
   "nbconvert_exporter": "python",
   "pygments_lexer": "ipython3",
   "version": "3.6.5"
  }
 },
 "nbformat": 4,
 "nbformat_minor": 2
}
