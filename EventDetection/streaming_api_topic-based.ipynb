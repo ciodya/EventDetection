{
 "cells": [
  {
   "cell_type": "code",
   "execution_count": 21,
   "metadata": {},
   "outputs": [],
   "source": [
    "from tweepy.streaming import StreamListener\n",
    "\n",
    "from tweepy import OAuthHandler\n",
    "\n",
    "from tweepy import Stream\n",
    "\n",
    "import tweepy\n",
    "\n",
    "import twitter\n",
    "\n",
    "import pymongo\n",
    "\n",
    "from pymongo import MongoClient\n",
    "\n",
    "import json\n",
    "\n",
    "from pprint import pprint\n",
    "\n",
    "import sys\n",
    "\n",
    "\"\"\"twitter token\"\"\"\n",
    "\n",
    "ACCESS_TOKEN = \"1049731545030938624-x8KIVfylbssx4FkZ3Wj4W0BpefSxsn\"\n",
    "\n",
    "ACCESS_TOKEN_SECRET = \"omMBapycC6Kb9bOgKhJnwUioS088HFN66caoUGJNJhNUb\"\n",
    "\n",
    "CONSUMER_KEY = \"oPuItePyhMTjwZeoPmPoD5Jul\"\n",
    "\n",
    "CONSUMER_SECRET = \"KIqsgQkXErQtOsmJjtJgxfiqqLkk3XOnRJiv4SqKsahqwPYBT2\"\n",
    "\n",
    "auth = OAuthHandler(CONSUMER_KEY, CONSUMER_SECRET)\n",
    "auth.set_access_token(ACCESS_TOKEN, ACCESS_TOKEN_SECRET)\n",
    "auth2 = twitter.oauth.OAuth(ACCESS_TOKEN, ACCESS_TOKEN_SECRET,CONSUMER_KEY,CONSUMER_SECRET)\n",
    "twitter_api = twitter.Twitter(auth=auth2)\n",
    "\n",
    "\"\"\"connect to monoDB\"\"\"\n",
    "\n",
    "client = MongoClient()\n",
    "\n",
    "db = client.new\n",
    "\n",
    "tweet_collection6 = db.tweet_collection6\n",
    "\n",
    "tweet_collection6.create_index([(\"id\", pymongo.ASCENDING)],unique = True)\n",
    "\n",
    "\"\"\"streaming api for catching data\"\"\"\n",
    "\n",
    "class Listener(StreamListener):\n",
    "        \n",
    "    def on_status(self, status):\n",
    "        try:\n",
    "            tweet_collection6.insert_one(status._json)\n",
    "        except:\n",
    "            pass\n",
    "        \n",
    "#     def on_error(self, status_code):\n",
    "#         if status_code == 420:\n",
    "#              return False\n",
    "            \n",
    "twitterStream = Stream(auth, Listener())\n",
    "twitterStream.filter(languages = [\"en\"], track = [\"Brexit\", \"Brexiters\", \"EU UK talks\"],  async=True)"
   ]
  },
  {
   "cell_type": "code",
   "execution_count": null,
   "metadata": {},
   "outputs": [],
   "source": []
  },
  {
   "cell_type": "code",
   "execution_count": null,
   "metadata": {},
   "outputs": [],
   "source": []
  }
 ],
 "metadata": {
  "kernelspec": {
   "display_name": "Python 3",
   "language": "python",
   "name": "python3"
  },
  "language_info": {
   "codemirror_mode": {
    "name": "ipython",
    "version": 3
   },
   "file_extension": ".py",
   "mimetype": "text/x-python",
   "name": "python",
   "nbconvert_exporter": "python",
   "pygments_lexer": "ipython3",
   "version": "3.6.5"
  }
 },
 "nbformat": 4,
 "nbformat_minor": 2
}
