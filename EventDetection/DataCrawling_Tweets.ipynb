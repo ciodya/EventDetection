{
 "cells": [
  {
   "cell_type": "markdown",
   "metadata": {},
   "source": [
    "# Task 2"
   ]
  },
  {
   "cell_type": "code",
   "execution_count": 3,
   "metadata": {},
   "outputs": [],
   "source": [
    "import pymongo\n",
    "\n",
    "from pymongo import MongoClient\n",
    "\n",
    "import json\n",
    "\n",
    "from pprint import pprint\n",
    "\n",
    "import sys\n",
    "\n",
    "\"\"\"connect to monoDB\"\"\"\n",
    "\n",
    "client = MongoClient()\n",
    "\n",
    "db = client.new2"
   ]
  },
  {
   "cell_type": "markdown",
   "metadata": {},
   "source": [
    "## Task 2 a. count the amount and specify the amount of geo-tagged data"
   ]
  },
  {
   "cell_type": "code",
   "execution_count": 16,
   "metadata": {},
   "outputs": [
    {
     "name": "stdout",
     "output_type": "stream",
     "text": [
      "82616\n",
      "1784\n"
     ]
    }
   ],
   "source": [
    "total = db.total2.count_documents({})\n",
    "print(total)\n",
    "\n",
    "total_geo = 0\n",
    "tweets = db.total2.find()\n",
    "for tweet in tweets:\n",
    "    keys = tweet.keys()\n",
    "    if 'place' in tweet and tweet['place']!=None :\n",
    "        total_geo += 1\n",
    "        \n",
    "print(total_geo)"
   ]
  },
  {
   "cell_type": "markdown",
   "metadata": {},
   "source": [
    "## Task 2 b. count geo-tagged data of Glasgow"
   ]
  },
  {
   "cell_type": "code",
   "execution_count": 12,
   "metadata": {},
   "outputs": [],
   "source": [
    "total_gla = 0\n",
    "\n",
    "tweets = db.total2.find()\n",
    "for tweet in tweets:\n",
    "    keys = tweet.keys()\n",
    "    if 'place' in tweet and tweet['place'] != None :\n",
    "        if tweet['place']['name'] == 'Glasgow':\n",
    "            total_gla += 1\n",
    "            gla.insert_one(tweet)"
   ]
  },
  {
   "cell_type": "code",
   "execution_count": 11,
   "metadata": {},
   "outputs": [
    {
     "name": "stdout",
     "output_type": "stream",
     "text": [
      "307\n"
     ]
    }
   ],
   "source": [
    "gla = db.gla\n",
    "total_gla = gla.count_documents({})\n",
    "print(total_gla)"
   ]
  },
  {
   "cell_type": "markdown",
   "metadata": {},
   "source": [
    "### count overlap glasgow data "
   ]
  },
  {
   "cell_type": "code",
   "execution_count": 4,
   "metadata": {},
   "outputs": [
    {
     "name": "stdout",
     "output_type": "stream",
     "text": [
      "0\n"
     ]
    }
   ],
   "source": [
    "gla = db.gla\n",
    "overlap_gla = 0\n",
    "tweets = gla.aggregate([{\"$group\":{\"_id\":\"$id_str\"}}])\n",
    "for tweet in tweets:\n",
    "    id = tweet['_id']\n",
    "    gla_data = db.total2.find({\"id_str\":id})\n",
    "    \n",
    "    num = 0\n",
    "    for glaTweet in gla_data:\n",
    "        num += 1\n",
    "        if num > 1:\n",
    "            overlap_gla += num\n",
    "        else:\n",
    "            break;\n",
    "\n",
    "print(overlap_gla)\n"
   ]
  },
  {
   "cell_type": "markdown",
   "metadata": {},
   "source": [
    "## Task 2 c. count redundant data"
   ]
  },
  {
   "cell_type": "code",
   "execution_count": null,
   "metadata": {},
   "outputs": [],
   "source": [
    "total3 = db.total3\n",
    "tweets = db.total2.aggregate([{\"$group\":{\"_id\":\"$id_str\"}}])\n",
    "for tweet in tweets:\n",
    "    id = tweet['_id']\n",
    "    clean_data = db.total2.find({\"id_str\":id, \"retweeted_status\":None, \"is_quote_status\":False})\n",
    "    \n",
    "    num = 0\n",
    "    for insertTweet in clean_data:\n",
    "        if num > 0:\n",
    "            break;\n",
    "        else:\n",
    "            total3.insert_one(insertTweet)\n",
    "        num += 1\n"
   ]
  },
  {
   "cell_type": "code",
   "execution_count": 6,
   "metadata": {},
   "outputs": [
    {
     "name": "stdout",
     "output_type": "stream",
     "text": [
      "60720\n"
     ]
    }
   ],
   "source": [
    "total = db.total2.count_documents({})\n",
    "total_3 = total3.count_documents({})\n",
    "total_overlap = total - total_3\n",
    "\n",
    "print(total_overlap)"
   ]
  },
  {
   "cell_type": "markdown",
   "metadata": {},
   "source": [
    "## Task 2 d. count the retweets and quotes"
   ]
  },
  {
   "cell_type": "code",
   "execution_count": 10,
   "metadata": {},
   "outputs": [
    {
     "name": "stdout",
     "output_type": "stream",
     "text": [
      "56130\n",
      "13253\n"
     ]
    }
   ],
   "source": [
    "total_retweet = 0\n",
    "total_quote = 0\n",
    "tweets = db.total2.find()\n",
    "for tweet in tweets:\n",
    "    keys = tweet.keys()\n",
    "    if 'retweeted_status' in tweet and tweet['retweeted_status']!= None :\n",
    "        total_retweet += 1\n",
    "    if 'is_quote_status' in tweet and tweet['is_quote_status']==True :\n",
    "        total_quote += 1\n",
    "        \n",
    "print(total_retweet)\n",
    "print(total_quote)"
   ]
  },
  {
   "cell_type": "code",
   "execution_count": null,
   "metadata": {},
   "outputs": [],
   "source": []
  }
 ],
 "metadata": {
  "kernelspec": {
   "display_name": "Python 3",
   "language": "python",
   "name": "python3"
  },
  "language_info": {
   "codemirror_mode": {
    "name": "ipython",
    "version": 3
   },
   "file_extension": ".py",
   "mimetype": "text/x-python",
   "name": "python",
   "nbconvert_exporter": "python",
   "pygments_lexer": "ipython3",
   "version": "3.6.5"
  }
 },
 "nbformat": 4,
 "nbformat_minor": 2
}
